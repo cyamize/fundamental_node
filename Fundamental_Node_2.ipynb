{
  "nbformat": 4,
  "nbformat_minor": 0,
  "metadata": {
    "kernelspec": {
      "display_name": "Python 3",
      "language": "python",
      "name": "python3"
    },
    "language_info": {
      "codemirror_mode": {
        "name": "ipython",
        "version": 3
      },
      "file_extension": ".py",
      "mimetype": "text/x-python",
      "name": "python",
      "nbconvert_exporter": "python",
      "pygments_lexer": "ipython3",
      "version": "3.8.5"
    },
    "colab": {
      "name": "Fundamental Node-2.ipynb",
      "provenance": [],
      "collapsed_sections": [],
      "include_colab_link": true
    }
  },
  "cells": [
    {
      "cell_type": "markdown",
      "metadata": {
        "id": "view-in-github",
        "colab_type": "text"
      },
      "source": [
        "<a href=\"https://colab.research.google.com/github/cyamize/fundamental_node/blob/main/Fundamental_Node_2.ipynb\" target=\"_parent\"><img src=\"https://colab.research.google.com/assets/colab-badge.svg\" alt=\"Open In Colab\"/></a>"
      ]
    },
    {
      "cell_type": "code",
      "metadata": {
        "id": "hI5FYKmP9eNb"
      },
      "source": [
        "def print_if_positive(number):\n",
        "    if number >=0:\n",
        "        print(number)\n",
        "#- 숫자가 0보다 크거나 같을 경우 즉, 0 이상일 경우에만 숫자를 출력한다.\n",
        "\n"
      ],
      "execution_count": 2,
      "outputs": []
    },
    {
      "cell_type": "code",
      "metadata": {
        "colab": {
          "base_uri": "https://localhost:8080/"
        },
        "id": "fcKmRK-I9eNj",
        "outputId": "e9c386ff-9d1b-48d1-b0d9-57a19f876768"
      },
      "source": [
        "print_if_positive(1)"
      ],
      "execution_count": 3,
      "outputs": [
        {
          "output_type": "stream",
          "text": [
            "1\n"
          ],
          "name": "stdout"
        }
      ]
    },
    {
      "cell_type": "code",
      "metadata": {
        "id": "smTsXT9c9eNn"
      },
      "source": [
        "print_if_positive(-1)"
      ],
      "execution_count": 4,
      "outputs": []
    },
    {
      "cell_type": "code",
      "metadata": {
        "id": "1P5Jwn4b9eNo"
      },
      "source": [
        "def print_whether_positive_or_negative(number):\n",
        "    if number>=0:\n",
        "        print('+')\n",
        "    else:\n",
        "        print('-')"
      ],
      "execution_count": 5,
      "outputs": []
    },
    {
      "cell_type": "code",
      "metadata": {
        "id": "f_sjfuPM9eNp"
      },
      "source": [
        "# 숫자가 0보다 크거나 같으면 +를, 작으면 -를 출력"
      ],
      "execution_count": 6,
      "outputs": []
    },
    {
      "cell_type": "code",
      "metadata": {
        "colab": {
          "base_uri": "https://localhost:8080/"
        },
        "id": "psjLcHa39eNp",
        "outputId": "52d554e5-b8d3-4d69-b95d-314b29f6e47c"
      },
      "source": [
        "print_whether_positive_or_negative(0)"
      ],
      "execution_count": 7,
      "outputs": [
        {
          "output_type": "stream",
          "text": [
            "+\n"
          ],
          "name": "stdout"
        }
      ]
    },
    {
      "cell_type": "code",
      "metadata": {
        "colab": {
          "base_uri": "https://localhost:8080/"
        },
        "id": "vlnKL16_9eNq",
        "outputId": "9f18a7fc-745c-4667-c60f-ceeb4915531d"
      },
      "source": [
        "print_whether_positive_or_negative(1)"
      ],
      "execution_count": 8,
      "outputs": [
        {
          "output_type": "stream",
          "text": [
            "+\n"
          ],
          "name": "stdout"
        }
      ]
    },
    {
      "cell_type": "code",
      "metadata": {
        "colab": {
          "base_uri": "https://localhost:8080/"
        },
        "id": "xf5mTTdc9eNr",
        "outputId": "e527172e-44b8-4d7f-8bf0-dbe478df9f7b"
      },
      "source": [
        "print_whether_positive_or_negative(-1)"
      ],
      "execution_count": 9,
      "outputs": [
        {
          "output_type": "stream",
          "text": [
            "-\n"
          ],
          "name": "stdout"
        }
      ]
    },
    {
      "cell_type": "code",
      "metadata": {
        "id": "N66ELUIh9eNs"
      },
      "source": [
        "def print_whether_positive_or_negative_or_zero(number):\n",
        "    if number > 0:\n",
        "        print('+')\n",
        "    elif number == 0:\n",
        "        print('0')\n",
        "    else:\n",
        "        print('-')"
      ],
      "execution_count": 10,
      "outputs": []
    },
    {
      "cell_type": "code",
      "metadata": {
        "colab": {
          "base_uri": "https://localhost:8080/"
        },
        "id": "uqRRI7D39eNt",
        "outputId": "b027016c-2ae1-4e8e-9f3d-af863c35f5a4"
      },
      "source": [
        "print_whether_positive_or_negative_or_zero(1)\n",
        "print_whether_positive_or_negative_or_zero(0)\n",
        "print_whether_positive_or_negative_or_zero(-1)"
      ],
      "execution_count": 11,
      "outputs": [
        {
          "output_type": "stream",
          "text": [
            "+\n",
            "0\n",
            "-\n"
          ],
          "name": "stdout"
        }
      ]
    },
    {
      "cell_type": "code",
      "metadata": {
        "id": "ELteFl0B9eNt"
      },
      "source": [
        "def print_if_positive_and_even(number):\n",
        "    if (number > 0) and (number %2==0):\n",
        "        print(number)\n"
      ],
      "execution_count": 12,
      "outputs": []
    },
    {
      "cell_type": "code",
      "metadata": {
        "id": "Iamr3Ui19eNu"
      },
      "source": [
        "# 숫자가 양수이고(and) 짝수일 때 해당 숫자를 출력\n",
        "# 양수 : number >0\n",
        "# 짝수 : number % 2 == 0 즉, 숫자를 2로 나눈 나머지가 0인 경우"
      ],
      "execution_count": 13,
      "outputs": []
    },
    {
      "cell_type": "code",
      "metadata": {
        "id": "DSI4ZDfz9eNu"
      },
      "source": [
        "print_if_positive_and_even(1)"
      ],
      "execution_count": 14,
      "outputs": []
    },
    {
      "cell_type": "code",
      "metadata": {
        "id": "wI6rnJZt9eNv"
      },
      "source": [
        "print_if_positive_and_even(-1)"
      ],
      "execution_count": 15,
      "outputs": []
    },
    {
      "cell_type": "code",
      "metadata": {
        "colab": {
          "base_uri": "https://localhost:8080/"
        },
        "id": "ekY4MA8j9eNv",
        "outputId": "06cb0f1c-0388-4fd5-b4ec-6aa263a78c0d"
      },
      "source": [
        "print_if_positive_and_even(2)"
      ],
      "execution_count": 16,
      "outputs": [
        {
          "output_type": "stream",
          "text": [
            "2\n"
          ],
          "name": "stdout"
        }
      ]
    },
    {
      "cell_type": "code",
      "metadata": {
        "id": "u2cttvyS9eNw"
      },
      "source": [
        "print_if_positive_and_even(-2)"
      ],
      "execution_count": 17,
      "outputs": []
    },
    {
      "cell_type": "code",
      "metadata": {
        "id": "FLzZkOH-9eNw"
      },
      "source": [
        "def print_if_negative_or_odd(number): # 음수이거나 홀수일때 출력\n",
        "    if (number<0) or (number % 2 !=0):\n",
        "        print(number)"
      ],
      "execution_count": 18,
      "outputs": []
    },
    {
      "cell_type": "code",
      "metadata": {
        "colab": {
          "base_uri": "https://localhost:8080/"
        },
        "id": "M45r-BOv9eNw",
        "outputId": "4569e4b6-1f4b-467e-e571-ec26695fab70"
      },
      "source": [
        "print_if_negative_or_odd(1)"
      ],
      "execution_count": 19,
      "outputs": [
        {
          "output_type": "stream",
          "text": [
            "1\n"
          ],
          "name": "stdout"
        }
      ]
    },
    {
      "cell_type": "code",
      "metadata": {
        "colab": {
          "base_uri": "https://localhost:8080/"
        },
        "id": "wgfzHrFA9eNx",
        "outputId": "c1f613d3-59d7-4e92-94ca-2651a6bd6b4b"
      },
      "source": [
        "print_if_negative_or_odd(-1)"
      ],
      "execution_count": 20,
      "outputs": [
        {
          "output_type": "stream",
          "text": [
            "-1\n"
          ],
          "name": "stdout"
        }
      ]
    },
    {
      "cell_type": "code",
      "metadata": {
        "id": "XXpthtPc9eNx"
      },
      "source": [
        "print_if_negative_or_odd(2)"
      ],
      "execution_count": 21,
      "outputs": []
    },
    {
      "cell_type": "code",
      "metadata": {
        "colab": {
          "base_uri": "https://localhost:8080/"
        },
        "id": "iDLN_w179eNy",
        "outputId": "04b0bc8d-7614-43b6-9d66-23527ab5c538"
      },
      "source": [
        "print_if_negative_or_odd(-2)"
      ],
      "execution_count": 22,
      "outputs": [
        {
          "output_type": "stream",
          "text": [
            "-2\n"
          ],
          "name": "stdout"
        }
      ]
    },
    {
      "cell_type": "code",
      "metadata": {
        "id": "oBSmdkGA9eNy"
      },
      "source": [
        "def print_if_negative_or_odd(number):\n",
        "    if (number <= 0) or (number % 2 !=0):\n",
        "        print(number)"
      ],
      "execution_count": 23,
      "outputs": []
    },
    {
      "cell_type": "code",
      "metadata": {
        "colab": {
          "base_uri": "https://localhost:8080/"
        },
        "id": "aLK0Xp-D9eNz",
        "outputId": "69b23da0-32ed-48ca-89e2-9e7b103a3557"
      },
      "source": [
        "print_if_negative_or_odd(1)"
      ],
      "execution_count": 24,
      "outputs": [
        {
          "output_type": "stream",
          "text": [
            "1\n"
          ],
          "name": "stdout"
        }
      ]
    },
    {
      "cell_type": "code",
      "metadata": {
        "colab": {
          "base_uri": "https://localhost:8080/"
        },
        "id": "dQRvq0WF9eNz",
        "outputId": "0433153e-abd4-44f3-9f6e-5f09f6ab4d6f"
      },
      "source": [
        "print_if_negative_or_odd(-1)"
      ],
      "execution_count": 25,
      "outputs": [
        {
          "output_type": "stream",
          "text": [
            "-1\n"
          ],
          "name": "stdout"
        }
      ]
    },
    {
      "cell_type": "code",
      "metadata": {
        "id": "Ot2_i4s99eNz"
      },
      "source": [
        "print_if_negative_or_odd(2)"
      ],
      "execution_count": 26,
      "outputs": []
    },
    {
      "cell_type": "code",
      "metadata": {
        "colab": {
          "base_uri": "https://localhost:8080/"
        },
        "id": "so9BZAaN9eN0",
        "outputId": "74a27a22-1c05-4dc1-8573-b5cd79b4a5e4"
      },
      "source": [
        "print_if_negative_or_odd(-2)"
      ],
      "execution_count": 27,
      "outputs": [
        {
          "output_type": "stream",
          "text": [
            "-2\n"
          ],
          "name": "stdout"
        }
      ]
    },
    {
      "cell_type": "markdown",
      "metadata": {
        "id": "E15n4EIE93OF"
      },
      "source": [
        "피보나치 수열 정의 함수"
      ]
    },
    {
      "cell_type": "code",
      "metadata": {
        "id": "xa7ZVQ3Q9eN0"
      },
      "source": [
        "def fibo(n):\n",
        "    if n <=2:\n",
        "        return 1\n",
        "    else:\n",
        "        return fibo(n-2)+fibo(n-1)\n",
        "\n",
        "n=1"
      ],
      "execution_count": 28,
      "outputs": []
    },
    {
      "cell_type": "code",
      "metadata": {
        "colab": {
          "base_uri": "https://localhost:8080/"
        },
        "id": "knX9Hb5U9eN0",
        "outputId": "efdcda6d-de02-4c8e-e771-fa166b2b9595"
      },
      "source": [
        "while n<= 20:\n",
        "    print(fibo(n))\n",
        "    n=n+1\n",
        "print('끝!')"
      ],
      "execution_count": 29,
      "outputs": [
        {
          "output_type": "stream",
          "text": [
            "1\n",
            "1\n",
            "2\n",
            "3\n",
            "5\n",
            "8\n",
            "13\n",
            "21\n",
            "34\n",
            "55\n",
            "89\n",
            "144\n",
            "233\n",
            "377\n",
            "610\n",
            "987\n",
            "1597\n",
            "2584\n",
            "4181\n",
            "6765\n",
            "끝!\n"
          ],
          "name": "stdout"
        }
      ]
    },
    {
      "cell_type": "code",
      "metadata": {
        "colab": {
          "base_uri": "https://localhost:8080/"
        },
        "id": "u4hdfT0h9eN1",
        "outputId": "cbc688ff-00e0-477c-a50c-908db73ecb1c"
      },
      "source": [
        "for character in 'Hello': # 글자를 하나씩 출력\n",
        "    print(character)"
      ],
      "execution_count": 1,
      "outputs": [
        {
          "output_type": "stream",
          "text": [
            "H\n",
            "e\n",
            "l\n",
            "l\n",
            "o\n"
          ],
          "name": "stdout"
        }
      ]
    },
    {
      "cell_type": "code",
      "metadata": {
        "id": "_JhND8ki9eN1"
      },
      "source": [
        ""
      ],
      "execution_count": 29,
      "outputs": []
    }
  ]
}